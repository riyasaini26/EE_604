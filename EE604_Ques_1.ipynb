{
 "cells": [
  {
   "cell_type": "code",
   "execution_count": 11,
   "id": "0ff2b8ab",
   "metadata": {},
   "outputs": [],
   "source": [
    "# import cv2\n",
    "# import numpy as np"
   ]
  },
  {
   "cell_type": "code",
   "execution_count": 12,
   "id": "6fe51153",
   "metadata": {},
   "outputs": [],
   "source": [
    "# def generate_number_display(N=123):\n",
    "#     '''\n",
    "#     Write your program to generate 3 digit number display as described above. \n",
    "#     Digits should be white and background black.\n",
    "    \n",
    "#     Inputs:\n",
    "#     + N - A '3' digit number to be printed.\n",
    "    \n",
    "#     Ouputs:\n",
    "#     + out_img - your 300x660 numpy array (of dtype np.uint8) as the display image.\n",
    "#               - For white pixel use value = 255\n",
    "#               - For black pixel use value = 0\n",
    "    \n",
    "#     Allowed external package:\n",
    "#     + You can use cv2.circle to draw dots. \n",
    "#     + You are not allowed to use any other external package.\n",
    "    \n",
    "#     Hint:\n",
    "#     + Create a masking array to place white dots across a black 300x660 display image.\n",
    "    \n",
    "#     '''\n",
    "#     out_img = np.zeros((300, 660), dtype=np.uint8) # Intialise with blank display\n",
    "    \n",
    "#     #############################\n",
    "#     # Start your code from here #\n",
    "#     #############################\n",
    "    \n",
    "#     # Sanity check and conversion to string\n",
    "#     if N < 10:\n",
    "#         N = '00' + str(N)\n",
    "#     elif N < 100:\n",
    "#         N = '0' + str(N)\n",
    "#     else:\n",
    "#         N = str(N)\n",
    "\n",
    "#     w = 60 # gapt to be given between digits\n",
    "#     r = 25 # Radius of circle\n",
    "#     pattern = {} # Dictionary to store the digit pattern\n",
    "    \n",
    "#     pattern['0'] = [[1,1,1],[1,0,1],[1,0,1],[1,0,1],[1,1,1]]\n",
    "#     pattern['1'] = [[0,1,0],[0,1,0],[0,1,0],[0,1,0],[0,1,0]]\n",
    "#     pattern['2'] = [[1,1,1],[0,0,1],[1,1,1],[1,0,0],[1,1,1]]\n",
    "#     pattern['3'] = [[1,1,1],[0,0,1],[1,1,1],[0,0,1],[1,1,1]]\n",
    "#     pattern['4'] = [[1,0,1],[1,0,1],[1,1,1],[0,0,1],[0,0,1]]\n",
    "#     pattern['5'] = [[1,1,1],[1,0,0],[1,1,1],[0,0,1],[1,1,1]]\n",
    "#     pattern['6'] = [[1,1,1],[1,0,0],[1,1,1],[1,0,1],[1,1,1]]\n",
    "#     pattern['7'] = [[1,1,1],[0,0,1],[0,0,1],[0,0,1],[0,0,1]]\n",
    "#     pattern['8'] = [[1,1,1],[1,0,1],[1,1,1],[1,0,1],[1,1,1]]\n",
    "#     pattern['9'] = [[1,1,1],[1,0,1],[1,1,1],[0,0,1],[1,1,1]]\n",
    "\n",
    "#     x = 0\n",
    "#     for num in N:\n",
    "#         dig = pattern[num]\n",
    "#         for i in range(5):\n",
    "#             for j in range(3):\n",
    "#                 if dig[i][j]:\n",
    "#                     centre = (x + 5 + 10*(j) + r + 2*r*j, 5 + 10*(i) + r + 2*r*i)\n",
    "#                     out_image = cv2.circle(out_img, centre , r, (255) ,-1)\n",
    "#         x += 180 + w\n",
    "    \n",
    "#     #############################\n",
    "#     # End your code here ########\n",
    "#     #############################    \n",
    "    \n",
    "#     return np.uint8(out_img)"
   ]
  },
  {
   "cell_type": "code",
   "execution_count": 13,
   "id": "2a33bc78",
   "metadata": {},
   "outputs": [],
   "source": [
    "# img = generate_number_display()\n",
    "# cv2.imshow(img)"
   ]
  },
  {
   "cell_type": "code",
   "execution_count": 15,
   "id": "925f5f4a",
   "metadata": {},
   "outputs": [],
   "source": [
    "import cv2\n",
    "import numpy as np\n",
    "import matplotlib.pyplot as plt\n",
    "from PIL import Image\n",
    "%matplotlib inline"
   ]
  },
  {
   "cell_type": "code",
   "execution_count": 29,
   "id": "8528efa4",
   "metadata": {},
   "outputs": [],
   "source": [
    "def displayno(num):\n",
    "    out_img = np.zeros((300, 500), dtype=np.uint8)\n",
    "    if num < 10:\n",
    "        num = '0' + str(num)\n",
    "    else:\n",
    "        num = str(num)\n",
    "    w = 60 # gapt to be given between digits\n",
    "    r = 25 # Radius of circle\n",
    "    pattern = {} # Dictionary to store the digit pattern\n",
    "    \n",
    "    pattern['0'] = [[1,1,1],[1,0,1],[1,0,1],[1,0,1],[1,1,1]]\n",
    "    pattern['1'] = [[0,1,0],[0,1,0],[0,1,0],[0,1,0],[0,1,0]]\n",
    "    pattern['2'] = [[1,1,1],[0,0,1],[1,1,1],[1,0,0],[1,1,1]]\n",
    "    pattern['3'] = [[1,1,1],[0,0,1],[1,1,1],[0,0,1],[1,1,1]]\n",
    "    pattern['4'] = [[1,0,1],[1,0,1],[1,1,1],[0,0,1],[0,0,1]]\n",
    "    pattern['5'] = [[1,1,1],[1,0,0],[1,1,1],[0,0,1],[1,1,1]]\n",
    "    pattern['6'] = [[1,1,1],[1,0,0],[1,1,1],[1,0,1],[1,1,1]]\n",
    "    pattern['7'] = [[1,1,1],[0,0,1],[0,0,1],[0,0,1],[0,0,1]]\n",
    "    pattern['8'] = [[1,1,1],[1,0,1],[1,1,1],[1,0,1],[1,1,1]]\n",
    "    pattern['9'] = [[1,1,1],[1,0,1],[1,1,1],[0,0,1],[1,1,1]]\n",
    "    x = 25\n",
    "    for num in num:\n",
    "        dig = pattern[num]\n",
    "        for i in range(5):\n",
    "            for j in range(3):\n",
    "                if dig[i][j]:\n",
    "                    centre = (x + 5 + 10*(j) + r + 2*r*j, 5 + 10*(i) + r + 2*r*i)\n",
    "                    out_image = cv2.circle(out_img, centre , r, (255) ,-1)\n",
    "        x += 180 + w\n",
    "       \n",
    "    \n",
    "    return np.uint8(out_img)\n",
    "    \n",
    "    \n",
    "    \n"
   ]
  },
  {
   "cell_type": "code",
   "execution_count": 32,
   "id": "025f7242",
   "metadata": {},
   "outputs": [
    {
     "name": "stdout",
     "output_type": "stream",
     "text": [
      "Enter number between 00 to 9945\n"
     ]
    },
    {
     "data": {
      "text/plain": [
       "<matplotlib.image.AxesImage at 0x2eeffde2770>"
      ]
     },
     "execution_count": 32,
     "metadata": {},
     "output_type": "execute_result"
    },
    {
     "data": {
      "image/png": "[encoded data removed]",
      "text/plain": [
       "<Figure size 432x288 with 1 Axes>"
      ]
     },
     "metadata": {
      "needs_background": "light"
     },
     "output_type": "display_data"
    }
   ],
   "source": [
    "intt = int(input('Enter number between 00 to 99'))\n",
    "img = displayno(intt)\n",
    "plt.imshow(img)"
   ]
  },
  {
   "cell_type": "code",
   "execution_count": 33,
   "id": "1870eceb",
   "metadata": {},
   "outputs": [
    {
     "data": {
      "text/plain": [
       "True"
      ]
     },
     "execution_count": 33,
     "metadata": {},
     "output_type": "execute_result"
    }
   ],
   "source": [
    "cv2.imwrite('D:\\\\RIYA\\\\college stuff\\\\3rd year\\\\5th sem\\\\EE604\\\\image.png',img)"
   ]
  },
  {
   "cell_type": "code",
   "execution_count": null,
   "id": "8f3ed8c4",
   "metadata": {},
   "outputs": [],
   "source": []
  }
 ],
 "metadata": {
  "kernelspec": {
   "display_name": "Python 3 (ipykernel)",
   "language": "python",
   "name": "python3"
  },
  "language_info": {
   "codemirror_mode": {
    "name": "ipython",
    "version": 3
   },
   "file_extension": ".py",
   "mimetype": "text/x-python",
   "name": "python",
   "nbconvert_exporter": "python",
   "pygments_lexer": "ipython3",
   "version": "3.10.1"
  }
 },
 "nbformat": 4,
 "nbformat_minor": 5
}
