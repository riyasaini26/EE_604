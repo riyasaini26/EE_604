{
 "cells": [
  {
   "cell_type": "code",
   "execution_count": 15,
   "id": "925f5f4a",
   "metadata": {},
   "outputs": [],
   "source": [
    "import cv2\n",
    "import numpy as np\n",
    "import matplotlib.pyplot as plt\n",
    "from PIL import Image\n",
    "%matplotlib inline"
   ]
  },
  {
   "cell_type": "code",
   "execution_count": 69,
   "id": "8528efa4",
   "metadata": {},
   "outputs": [],
   "source": [
    "def displayno(num):\n",
    "    final = np.zeros((300, 500), dtype=np.uint8)\n",
    "    if num < 10:\n",
    "        num = '0' + str(num)\n",
    "    else:\n",
    "        num = str(num)\n",
    "    g = 75 \n",
    "    rad = 25 \n",
    "    #it is a 3*5 matrix defines how to write 0 to 9 in matrix using 0 and 1\n",
    "    num_matrix = {'0':[[1,1,1],[1,0,1],[1,0,1],[1,0,1],[1,1,1]],'1':[[0,1,0],[0,1,0],[0,1,0],[0,1,0],[0,1,0]],'2':[[1,1,1],[0,0,1],[1,1,1],[1,0,0],[1,1,1]],'3':[[1,1,1],[0,0,1],[1,1,1],[0,0,1],[1,1,1]],'4':[[1,0,1],[1,0,1],[1,1,1],[0,0,1],[0,0,1]],'5':[[1,1,1],[1,0,0],[1,1,1],[0,0,1],[1,1,1]],'6':[[1,1,1],[1,0,0],[1,1,1],[1,0,1],[1,1,1]],'7':[[1,1,1],[0,0,1],[0,0,1],[0,0,1],[0,0,1]],'8': [[1,1,1],[1,0,1],[1,1,1],[1,0,1],[1,1,1]],'9':[[1,1,1],[1,0,1],[1,1,1],[0,0,1],[1,1,1]]} # Dictionary to store the digit pattern\n",
    "    \n",
    "    p = 30\n",
    "    first_dig = num[0]\n",
    "    second_dig = num[1]\n",
    "    ch = num_matrix[first_dig]\n",
    "    for i in [0,1,2,3,4]:\n",
    "        for j in [0,1,2]:\n",
    "            if ch[i][j]==1:\n",
    "                c = (p + 8 + 9*(j) + rad + 2*rad*j, 8 + 9*(i) + rad + 2*rad*i)\n",
    "                final = cv2.circle(final, c , rad, (255) ,-1)\n",
    "    p += 180 + g\n",
    "    ch1 = num_matrix[second_dig]\n",
    "    for i in [0,1,2,3,4]:\n",
    "        for j in [0,1,2]:\n",
    "            if ch1[i][j]==1:\n",
    "                c = (p + 8 + 9*(j) + rad + 2*rad*j, 8 + 9*(i) + rad + 2*rad*i)\n",
    "                final = cv2.circle(final, c , rad, (255) ,-1)\n",
    "       \n",
    "    \n",
    "    return np.uint8(final)"
   ]
  },
  {
   "cell_type": "code",
   "execution_count": 71,
   "id": "025f7242",
   "metadata": {},
   "outputs": [
    {
     "name": "stdout",
     "output_type": "stream",
     "text": [
      "Enter number between 00 to 99 76\n"
     ]
    }
   ],
   "source": [
    "intt = int(input('Enter number between 00 to 99 '))\n",
    "img = displayno(intt)"
   ]
  },
  {
   "cell_type": "code",
   "execution_count": 72,
   "id": "1870eceb",
   "metadata": {},
   "outputs": [
    {
     "data": {
      "text/plain": [
       "True"
      ]
     },
     "execution_count": 72,
     "metadata": {},
     "output_type": "execute_result"
    }
   ],
   "source": [
    "cv2.imwrite('image.png',img)"
   ]
  },
  {
   "cell_type": "code",
   "execution_count": null,
   "id": "c06f8d0f",
   "metadata": {},
   "outputs": [],
   "source": []
  }
 ],
 "metadata": {
  "kernelspec": {
   "display_name": "Python 3 (ipykernel)",
   "language": "python",
   "name": "python3"
  },
  "language_info": {
   "codemirror_mode": {
    "name": "ipython",
    "version": 3
   },
   "file_extension": ".py",
   "mimetype": "text/x-python",
   "name": "python",
   "nbconvert_exporter": "python",
   "pygments_lexer": "ipython3",
   "version": "3.10.1"
  }
 },
 "nbformat": 4,
 "nbformat_minor": 5
}
